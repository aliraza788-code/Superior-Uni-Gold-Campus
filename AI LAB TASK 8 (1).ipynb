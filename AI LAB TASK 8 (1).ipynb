{
 "cells": [
  {
   "cell_type": "code",
   "execution_count": 1,
   "id": "b0e80533-73ad-40c1-8733-b316388de241",
   "metadata": {},
   "outputs": [],
   "source": [
    "import math\n",
    "def minimax (curr, node, maxTurn, scores, target):\n",
    "    if (curr == target): \n",
    "        return scores[node]\n",
    "    if (maxTurn):\n",
    "        return max(minimax(curr + 1, node * 2, False, scores, target), \n",
    "                   minimax(curr + 1, node * 2 + 1, False, scores, target))\n",
    "    else:\n",
    "        return min(minimax(curr + 1, node * 2, True, scores, target), \n",
    "                   minimax(curr + 1, node * 2 + 1, True, scores, target))\n",
    "    \n"
   ]
  },
  {
   "cell_type": "code",
   "execution_count": 3,
   "id": "139917d2-2af0-42aa-859f-58e9655b07f0",
   "metadata": {},
   "outputs": [
    {
     "name": "stdout",
     "output_type": "stream",
     "text": [
      "The optimal value is : 14\n",
      "3.0\n"
     ]
    }
   ],
   "source": [
    "scores = [7, 8, 2, 9, 14, 9, 28, 23]\n",
    "tree = math.log(len(scores), 2)\n",
    "\n",
    "print(\"The optimal value is : \", end = \"\")\n",
    "print(minimax(0, 0, True, scores, tree))\n",
    "print(tree)"
   ]
  },
  {
   "cell_type": "code",
   "execution_count": null,
   "id": "f42c3a28-a276-4448-94a8-322f870d2eb3",
   "metadata": {},
   "outputs": [],
   "source": []
  }
 ],
 "metadata": {
  "kernelspec": {
   "display_name": "Python 3 (ipykernel)",
   "language": "python",
   "name": "python3"
  },
  "language_info": {
   "codemirror_mode": {
    "name": "ipython",
    "version": 3
   },
   "file_extension": ".py",
   "mimetype": "text/x-python",
   "name": "python",
   "nbconvert_exporter": "python",
   "pygments_lexer": "ipython3",
   "version": "3.12.4"
  }
 },
 "nbformat": 4,
 "nbformat_minor": 5
}
